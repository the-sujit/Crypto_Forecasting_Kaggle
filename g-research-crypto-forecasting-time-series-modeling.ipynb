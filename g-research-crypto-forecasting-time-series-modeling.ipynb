{
 "cells": [
  {
   "cell_type": "code",
   "execution_count": 1,
   "id": "6927f95e",
   "metadata": {
    "_cell_guid": "b1076dfc-b9ad-4769-8c92-a6c4dae69d19",
    "_uuid": "8f2839f25d086af736a60e9eeb907d3b93b6e0e5",
    "execution": {
     "iopub.execute_input": "2022-08-16T01:40:27.638711Z",
     "iopub.status.busy": "2022-08-16T01:40:27.637771Z",
     "iopub.status.idle": "2022-08-16T01:40:29.732009Z",
     "shell.execute_reply": "2022-08-16T01:40:29.730528Z"
    },
    "papermill": {
     "duration": 2.103395,
     "end_time": "2022-08-16T01:40:29.735492",
     "exception": false,
     "start_time": "2022-08-16T01:40:27.632097",
     "status": "completed"
    },
    "tags": []
   },
   "outputs": [
    {
     "data": {
      "text/html": [
       "<style type='text/css'>\n",
       ".datatable table.frame { margin-bottom: 0; }\n",
       ".datatable table.frame thead { border-bottom: none; }\n",
       ".datatable table.frame tr.coltypes td {  color: #FFFFFF;  line-height: 6px;  padding: 0 0.5em;}\n",
       ".datatable .bool    { background: #DDDD99; }\n",
       ".datatable .object  { background: #565656; }\n",
       ".datatable .int     { background: #5D9E5D; }\n",
       ".datatable .float   { background: #4040CC; }\n",
       ".datatable .str     { background: #CC4040; }\n",
       ".datatable .time    { background: #40CC40; }\n",
       ".datatable .row_index {  background: var(--jp-border-color3);  border-right: 1px solid var(--jp-border-color0);  color: var(--jp-ui-font-color3);  font-size: 9px;}\n",
       ".datatable .frame tbody td { text-align: left; }\n",
       ".datatable .frame tr.coltypes .row_index {  background: var(--jp-border-color0);}\n",
       ".datatable th:nth-child(2) { padding-left: 12px; }\n",
       ".datatable .hellipsis {  color: var(--jp-cell-editor-border-color);}\n",
       ".datatable .vellipsis {  background: var(--jp-layout-color0);  color: var(--jp-cell-editor-border-color);}\n",
       ".datatable .na {  color: var(--jp-cell-editor-border-color);  font-size: 80%;}\n",
       ".datatable .sp {  opacity: 0.25;}\n",
       ".datatable .footer { font-size: 9px; }\n",
       ".datatable .frame_dimensions {  background: var(--jp-border-color3);  border-top: 1px solid var(--jp-border-color0);  color: var(--jp-ui-font-color3);  display: inline-block;  opacity: 0.6;  padding: 1px 10px 1px 5px;}\n",
       "</style>\n"
      ],
      "text/plain": [
       "<IPython.core.display.HTML object>"
      ]
     },
     "metadata": {},
     "output_type": "display_data"
    }
   ],
   "source": [
    "# This Python 3 environment comes with many helpful analytics libraries installed\n",
    "# It is defined by the kaggle/python Docker image: https://github.com/kaggle/docker-python\n",
    "# For example, here's several helpful packages to load\n",
    "\n",
    "# This Python 3 environment comes with many helpful analytics libraries installed\n",
    "# It is defined by the kaggle/python Docker image: https://github.com/kaggle/docker-python\n",
    "# For example, here's several helpful packages to load\n",
    "\n",
    "import numpy as np # linear algebra\n",
    "import pandas as pd # data processing, CSV file I/O (e.g. pd.read_csv)\n",
    "from datetime import datetime\n",
    "import time\n",
    "import lightgbm as lgb\n",
    "from sklearn.model_selection import train_test_split\n",
    "from sklearn.preprocessing import StandardScaler"
   ]
  },
  {
   "cell_type": "code",
   "execution_count": 2,
   "id": "c6d903e0",
   "metadata": {
    "execution": {
     "iopub.execute_input": "2022-08-16T01:40:29.744030Z",
     "iopub.status.busy": "2022-08-16T01:40:29.743481Z",
     "iopub.status.idle": "2022-08-16T01:41:24.652273Z",
     "shell.execute_reply": "2022-08-16T01:41:24.651128Z"
    },
    "papermill": {
     "duration": 54.916239,
     "end_time": "2022-08-16T01:41:24.655056",
     "exception": false,
     "start_time": "2022-08-16T01:40:29.738817",
     "status": "completed"
    },
    "tags": []
   },
   "outputs": [],
   "source": [
    "train = pd.read_csv(\"../input/g-research-crypto-forecasting/train.csv\",\n",
    "                              dtype = {'Asset_ID' : 'int8', 'Count' : 'float16', 'Open' : 'float32', \n",
    "                                       'High' : 'float32', 'Low' : 'float32', 'Close' : 'float32', \n",
    "                                       'Volume' : 'float16', 'VWAP' : 'float16', 'Target' : 'float16'})\n",
    "\n",
    "asset_details = pd.read_csv(\"../input/g-research-crypto-forecasting/asset_details.csv\")"
   ]
  },
  {
   "cell_type": "code",
   "execution_count": 3,
   "id": "c3e3c77c",
   "metadata": {
    "execution": {
     "iopub.execute_input": "2022-08-16T01:41:24.662779Z",
     "iopub.status.busy": "2022-08-16T01:41:24.662308Z",
     "iopub.status.idle": "2022-08-16T01:41:26.185793Z",
     "shell.execute_reply": "2022-08-16T01:41:26.184453Z"
    },
    "papermill": {
     "duration": 1.530755,
     "end_time": "2022-08-16T01:41:26.189014",
     "exception": false,
     "start_time": "2022-08-16T01:41:24.658259",
     "status": "completed"
    },
    "tags": []
   },
   "outputs": [],
   "source": [
    "train_copy = train.copy().set_index(\"timestamp\")\n",
    "\n",
    "\n",
    "##Bitcoin\n",
    "train_BTC = train_copy[train_copy['Asset_ID']==1]\n",
    "\n",
    "##Dogecoin\n",
    "train_DOGE = train_copy[train_copy['Asset_ID']==4]\n",
    "\n",
    "##Etherium (Ether)\n",
    "train_ETH = train_copy[train_copy['Asset_ID']==6]\n",
    "\n",
    "##Litecoin\n",
    "train_LTC = train_copy[train_copy['Asset_ID']==9]\n",
    "\n",
    "Asset_list = [train_BTC, train_DOGE, train_ETH, train_LTC]"
   ]
  },
  {
   "cell_type": "code",
   "execution_count": 4,
   "id": "e92b5e61",
   "metadata": {
    "execution": {
     "iopub.execute_input": "2022-08-16T01:41:26.197391Z",
     "iopub.status.busy": "2022-08-16T01:41:26.196232Z",
     "iopub.status.idle": "2022-08-16T01:41:28.305231Z",
     "shell.execute_reply": "2022-08-16T01:41:28.303877Z"
    },
    "papermill": {
     "duration": 2.116162,
     "end_time": "2022-08-16T01:41:28.308142",
     "exception": false,
     "start_time": "2022-08-16T01:41:26.191980",
     "status": "completed"
    },
    "tags": []
   },
   "outputs": [],
   "source": [
    "##Imputing missing timestamps\n",
    "train_BTC = train_BTC.reindex(range(train_BTC.index[0], train_BTC.index[-1]+60, 60), method='pad')\n",
    "train_ETH = train_ETH.reindex(range(train_ETH.index[0], train_ETH.index[-1]+60, 60), method='pad')\n",
    "train_LTC = train_LTC.reindex(range(train_LTC.index[0], train_LTC.index[-1]+60, 60), method='pad')\n",
    "train_DOGE = train_DOGE.reindex(range(train_DOGE.index[0], train_DOGE.index[-1]+60, 60), method='pad')\n",
    "\n",
    "\n",
    "##Imputing the missing values with 0\n",
    "train_BTC.Target.fillna(0,inplace=True)\n",
    "train_ETH.Target.fillna(0,inplace=True)\n",
    "train_LTC.Target.fillna(0,inplace=True)\n",
    "train_DOGE.Target.fillna(0,inplace=True)\n",
    "\n",
    "\n",
    "## Function to calculate log returns\n",
    "def log_return(series, periods=1):\n",
    "    return np.log(series).diff(periods=periods)\n",
    "\n",
    "## Functions to calculate upper and lower shadow\n",
    "upper_shadow = lambda asset: asset.High - np.maximum(asset.Close, asset.Open)\n",
    "lower_shadow = lambda asset: np.minimum(asset.Close, asset.Open) - asset.Low\n",
    "\n",
    "X_BTC = pd.concat([log_return(train_BTC.VWAP, periods=5), log_return(train_BTC.VWAP, periods=5).abs(), \n",
    "                   upper_shadow(train_BTC), lower_shadow(train_BTC)], axis=1)\n",
    "y_BTC = train_BTC.Target\n",
    "\n",
    "X_ETH = pd.concat([log_return(train_ETH.VWAP, periods=5), log_return(train_ETH.VWAP, periods=5).abs(), \n",
    "                   upper_shadow(train_ETH), lower_shadow(train_ETH)], axis=1)\n",
    "y_ETH = train_ETH.Target\n",
    "\n",
    "X_LTC = pd.concat([log_return(train_LTC.VWAP, periods=5), log_return(train_LTC.VWAP, periods=5).abs(), \n",
    "                   upper_shadow(train_LTC), lower_shadow(train_LTC)], axis=1)\n",
    "y_LTC = train_LTC.Target\n",
    "\n",
    "X_DOGE = pd.concat([log_return(train_DOGE.VWAP, periods=5), log_return(train_DOGE.VWAP, periods=5).abs(), \n",
    "                   upper_shadow(train_DOGE), lower_shadow(train_DOGE)], axis=1)\n",
    "y_DOGE = train_DOGE.Target"
   ]
  },
  {
   "cell_type": "code",
   "execution_count": 5,
   "id": "2b0c68d1",
   "metadata": {
    "execution": {
     "iopub.execute_input": "2022-08-16T01:41:28.316111Z",
     "iopub.status.busy": "2022-08-16T01:41:28.315643Z",
     "iopub.status.idle": "2022-08-16T01:41:28.347987Z",
     "shell.execute_reply": "2022-08-16T01:41:28.346759Z"
    },
    "papermill": {
     "duration": 0.039968,
     "end_time": "2022-08-16T01:41:28.351095",
     "exception": false,
     "start_time": "2022-08-16T01:41:28.311127",
     "status": "completed"
    },
    "tags": []
   },
   "outputs": [],
   "source": [
    "## selecting training and testing windows\n",
    "\n",
    "totimestamp = lambda s: np.int32(time.mktime(datetime.strptime(s, '%d/%m/%Y').timetuple()))\n",
    "\n",
    "train_window = [totimestamp(\"01/05/2021\"), totimestamp(\"31/05/2021\")]\n",
    "test_window = [totimestamp(\"01/06/2021\"), totimestamp(\"30/06/2021\")]\n",
    "\n",
    "\n",
    "X_BTC_train = X_BTC.loc[train_window[0]:train_window[1]].fillna(0).to_numpy()  # filling NaN's with zeros\n",
    "y_BTC_train = y_BTC.loc[train_window[0]:train_window[1]].fillna(0).to_numpy()\n",
    "\n",
    "X_BTC_test = X_BTC.loc[test_window[0]:test_window[1]].fillna(0).to_numpy()\n",
    "y_BTC_test = y_BTC.loc[test_window[0]:test_window[1]].fillna(0).to_numpy()\n",
    "\n",
    "X_ETH_train = X_ETH.loc[train_window[0]:train_window[1]].fillna(0).to_numpy()\n",
    "y_ETH_train = y_ETH.loc[train_window[0]:train_window[1]].fillna(0).to_numpy()\n",
    "\n",
    "X_ETH_test = X_ETH.loc[test_window[0]:test_window[1]].fillna(0).to_numpy()\n",
    "y_ETH_test = y_ETH.loc[test_window[0]:test_window[1]].fillna(0).to_numpy()\n",
    "\n",
    "X_LTC_train = X_LTC.loc[train_window[0]:train_window[1]].fillna(0).to_numpy()\n",
    "y_LTC_train = y_LTC.loc[train_window[0]:train_window[1]].fillna(0).to_numpy() \n",
    "\n",
    "X_LTC_test = X_LTC.loc[test_window[0]:test_window[1]].fillna(0).to_numpy()\n",
    "y_LTC_test = y_LTC.loc[test_window[0]:test_window[1]].fillna(0).to_numpy()\n",
    "\n",
    "X_DOGE_train = X_DOGE.loc[train_window[0]:train_window[1]].fillna(0).to_numpy()\n",
    "y_DOGE_train = y_DOGE.loc[train_window[0]:train_window[1]].fillna(0).to_numpy() \n",
    "\n",
    "X_DOGE_test = X_DOGE.loc[test_window[0]:test_window[1]].fillna(0).to_numpy() \n",
    "y_DOGE_test = y_DOGE.loc[test_window[0]:test_window[1]].fillna(0).to_numpy()"
   ]
  },
  {
   "cell_type": "code",
   "execution_count": 6,
   "id": "d302f83d",
   "metadata": {
    "execution": {
     "iopub.execute_input": "2022-08-16T01:41:28.359107Z",
     "iopub.status.busy": "2022-08-16T01:41:28.358337Z",
     "iopub.status.idle": "2022-08-16T01:41:28.380626Z",
     "shell.execute_reply": "2022-08-16T01:41:28.379461Z"
    },
    "papermill": {
     "duration": 0.029597,
     "end_time": "2022-08-16T01:41:28.383599",
     "exception": false,
     "start_time": "2022-08-16T01:41:28.354002",
     "status": "completed"
    },
    "tags": []
   },
   "outputs": [],
   "source": [
    "scaler = StandardScaler()\n",
    "\n",
    "X_BTC_train_scaled = scaler.fit_transform(X_BTC_train)\n",
    "X_BTC_test_scaled = scaler.transform(X_BTC_test)\n",
    "\n",
    "X_ETH_train_scaled = scaler.fit_transform(X_ETH_train)\n",
    "X_ETH_test_scaled = scaler.transform(X_ETH_test)\n",
    "\n",
    "X_LTC_train_scaled = scaler.fit_transform(X_LTC_train)\n",
    "X_LTC_test_scaled = scaler.transform(X_LTC_test)\n",
    "\n",
    "X_DOGE_train_scaled = scaler.fit_transform(X_DOGE_train)\n",
    "X_DOGE_test_scaled = scaler.transform(X_DOGE_test)"
   ]
  }
 ],
 "metadata": {
  "kernelspec": {
   "display_name": "Python 3",
   "language": "python",
   "name": "python3"
  },
  "language_info": {
   "codemirror_mode": {
    "name": "ipython",
    "version": 3
   },
   "file_extension": ".py",
   "mimetype": "text/x-python",
   "name": "python",
   "nbconvert_exporter": "python",
   "pygments_lexer": "ipython3",
   "version": "3.7.12"
  },
  "papermill": {
   "default_parameters": {},
   "duration": 71.469565,
   "end_time": "2022-08-16T01:41:29.309755",
   "environment_variables": {},
   "exception": null,
   "input_path": "__notebook__.ipynb",
   "output_path": "__notebook__.ipynb",
   "parameters": {},
   "start_time": "2022-08-16T01:40:17.840190",
   "version": "2.3.4"
  }
 },
 "nbformat": 4,
 "nbformat_minor": 5
}
