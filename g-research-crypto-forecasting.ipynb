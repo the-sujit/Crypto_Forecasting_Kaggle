{
 "cells": [
  {
   "cell_type": "code",
   "execution_count": 1,
   "id": "af7f366b",
   "metadata": {
    "_cell_guid": "6b51587b-5ebf-4707-8bae-3e3df047f796",
    "_uuid": "7e1f0b15-7d86-4e97-99d6-d91b5618471c",
    "collapsed": false,
    "execution": {
     "iopub.execute_input": "2022-08-13T02:23:59.438584Z",
     "iopub.status.busy": "2022-08-13T02:23:59.438025Z",
     "iopub.status.idle": "2022-08-13T02:23:59.447690Z",
     "shell.execute_reply": "2022-08-13T02:23:59.447010Z"
    },
    "jupyter": {
     "outputs_hidden": false
    },
    "papermill": {
     "duration": 0.021509,
     "end_time": "2022-08-13T02:23:59.450076",
     "exception": false,
     "start_time": "2022-08-13T02:23:59.428567",
     "status": "completed"
    },
    "tags": []
   },
   "outputs": [],
   "source": [
    "# This Python 3 environment comes with many helpful analytics libraries installed\n",
    "# It is defined by the kaggle/python Docker image: https://github.com/kaggle/docker-python\n",
    "# For example, here's several helpful packages to load\n",
    "\n",
    "import numpy as np # linear algebra\n",
    "import pandas as pd # data processing, CSV file I/O (e.g. pd.read_csv)\n",
    "from datetime import datetime"
   ]
  },
  {
   "cell_type": "code",
   "execution_count": 2,
   "id": "9e7280ec",
   "metadata": {
    "execution": {
     "iopub.execute_input": "2022-08-13T02:23:59.467011Z",
     "iopub.status.busy": "2022-08-13T02:23:59.466498Z",
     "iopub.status.idle": "2022-08-13T02:24:53.261784Z",
     "shell.execute_reply": "2022-08-13T02:24:53.260889Z"
    },
    "papermill": {
     "duration": 53.81313,
     "end_time": "2022-08-13T02:24:53.270692",
     "exception": false,
     "start_time": "2022-08-13T02:23:59.457562",
     "status": "completed"
    },
    "tags": []
   },
   "outputs": [
    {
     "name": "stdout",
     "output_type": "stream",
     "text": [
      "<class 'pandas.core.frame.DataFrame'>\n",
      "RangeIndex: 24236806 entries, 0 to 24236805\n",
      "Data columns (total 10 columns):\n",
      " #   Column     Dtype  \n",
      "---  ------     -----  \n",
      " 0   timestamp  int64  \n",
      " 1   Asset_ID   int8   \n",
      " 2   Count      float16\n",
      " 3   Open       float32\n",
      " 4   High       float32\n",
      " 5   Low        float32\n",
      " 6   Close      float32\n",
      " 7   Volume     float16\n",
      " 8   VWAP       float16\n",
      " 9   Target     float16\n",
      "dtypes: float16(4), float32(4), int64(1), int8(1)\n",
      "memory usage: 762.8 MB\n"
     ]
    }
   ],
   "source": [
    "train = pd.read_csv(\"../input/g-research-crypto-forecasting/train.csv\",\n",
    "                              dtype = {'Asset_ID' : 'int8', 'Count' : 'float16', 'Open' : 'float32', \n",
    "                                       'High' : 'float32', 'Low' : 'float32', 'Close' : 'float32', \n",
    "                                       'Volume' : 'float16', 'VWAP' : 'float16', 'Target' : 'float16'})\n",
    "\n",
    "train.info()"
   ]
  },
  {
   "cell_type": "markdown",
   "id": "974b3d59",
   "metadata": {
    "papermill": {
     "duration": 0.006894,
     "end_time": "2022-08-13T02:24:53.284764",
     "exception": false,
     "start_time": "2022-08-13T02:24:53.277870",
     "status": "completed"
    },
    "tags": []
   },
   "source": [
    "### Reducing the memory usage of the dataframe"
   ]
  },
  {
   "cell_type": "code",
   "execution_count": 3,
   "id": "88b46637",
   "metadata": {
    "execution": {
     "iopub.execute_input": "2022-08-13T02:24:53.300805Z",
     "iopub.status.busy": "2022-08-13T02:24:53.300362Z",
     "iopub.status.idle": "2022-08-13T02:24:53.322441Z",
     "shell.execute_reply": "2022-08-13T02:24:53.321779Z"
    },
    "papermill": {
     "duration": 0.032053,
     "end_time": "2022-08-13T02:24:53.323970",
     "exception": false,
     "start_time": "2022-08-13T02:24:53.291917",
     "status": "completed"
    },
    "tags": []
   },
   "outputs": [
    {
     "data": {
      "text/html": [
       "<div>\n",
       "<style scoped>\n",
       "    .dataframe tbody tr th:only-of-type {\n",
       "        vertical-align: middle;\n",
       "    }\n",
       "\n",
       "    .dataframe tbody tr th {\n",
       "        vertical-align: top;\n",
       "    }\n",
       "\n",
       "    .dataframe thead th {\n",
       "        text-align: right;\n",
       "    }\n",
       "</style>\n",
       "<table border=\"1\" class=\"dataframe\">\n",
       "  <thead>\n",
       "    <tr style=\"text-align: right;\">\n",
       "      <th></th>\n",
       "      <th>Asset_ID</th>\n",
       "      <th>Weight</th>\n",
       "      <th>Asset_Name</th>\n",
       "    </tr>\n",
       "  </thead>\n",
       "  <tbody>\n",
       "    <tr>\n",
       "      <th>0</th>\n",
       "      <td>2</td>\n",
       "      <td>2.397895</td>\n",
       "      <td>Bitcoin Cash</td>\n",
       "    </tr>\n",
       "    <tr>\n",
       "      <th>1</th>\n",
       "      <td>0</td>\n",
       "      <td>4.304065</td>\n",
       "      <td>Binance Coin</td>\n",
       "    </tr>\n",
       "    <tr>\n",
       "      <th>2</th>\n",
       "      <td>1</td>\n",
       "      <td>6.779922</td>\n",
       "      <td>Bitcoin</td>\n",
       "    </tr>\n",
       "    <tr>\n",
       "      <th>3</th>\n",
       "      <td>5</td>\n",
       "      <td>1.386294</td>\n",
       "      <td>EOS.IO</td>\n",
       "    </tr>\n",
       "    <tr>\n",
       "      <th>4</th>\n",
       "      <td>7</td>\n",
       "      <td>2.079442</td>\n",
       "      <td>Ethereum Classic</td>\n",
       "    </tr>\n",
       "    <tr>\n",
       "      <th>5</th>\n",
       "      <td>6</td>\n",
       "      <td>5.894403</td>\n",
       "      <td>Ethereum</td>\n",
       "    </tr>\n",
       "    <tr>\n",
       "      <th>6</th>\n",
       "      <td>9</td>\n",
       "      <td>2.397895</td>\n",
       "      <td>Litecoin</td>\n",
       "    </tr>\n",
       "    <tr>\n",
       "      <th>7</th>\n",
       "      <td>11</td>\n",
       "      <td>1.609438</td>\n",
       "      <td>Monero</td>\n",
       "    </tr>\n",
       "    <tr>\n",
       "      <th>8</th>\n",
       "      <td>13</td>\n",
       "      <td>1.791759</td>\n",
       "      <td>TRON</td>\n",
       "    </tr>\n",
       "    <tr>\n",
       "      <th>9</th>\n",
       "      <td>12</td>\n",
       "      <td>2.079442</td>\n",
       "      <td>Stellar</td>\n",
       "    </tr>\n",
       "    <tr>\n",
       "      <th>10</th>\n",
       "      <td>3</td>\n",
       "      <td>4.406719</td>\n",
       "      <td>Cardano</td>\n",
       "    </tr>\n",
       "    <tr>\n",
       "      <th>11</th>\n",
       "      <td>8</td>\n",
       "      <td>1.098612</td>\n",
       "      <td>IOTA</td>\n",
       "    </tr>\n",
       "    <tr>\n",
       "      <th>12</th>\n",
       "      <td>10</td>\n",
       "      <td>1.098612</td>\n",
       "      <td>Maker</td>\n",
       "    </tr>\n",
       "    <tr>\n",
       "      <th>13</th>\n",
       "      <td>4</td>\n",
       "      <td>3.555348</td>\n",
       "      <td>Dogecoin</td>\n",
       "    </tr>\n",
       "  </tbody>\n",
       "</table>\n",
       "</div>"
      ],
      "text/plain": [
       "    Asset_ID    Weight        Asset_Name\n",
       "0          2  2.397895      Bitcoin Cash\n",
       "1          0  4.304065      Binance Coin\n",
       "2          1  6.779922           Bitcoin\n",
       "3          5  1.386294            EOS.IO\n",
       "4          7  2.079442  Ethereum Classic\n",
       "5          6  5.894403          Ethereum\n",
       "6          9  2.397895          Litecoin\n",
       "7         11  1.609438            Monero\n",
       "8         13  1.791759              TRON\n",
       "9         12  2.079442           Stellar\n",
       "10         3  4.406719           Cardano\n",
       "11         8  1.098612              IOTA\n",
       "12        10  1.098612             Maker\n",
       "13         4  3.555348          Dogecoin"
      ]
     },
     "execution_count": 3,
     "metadata": {},
     "output_type": "execute_result"
    }
   ],
   "source": [
    "asset_details = pd.read_csv(\"../input/g-research-crypto-forecasting/asset_details.csv\")\n",
    "\n",
    "asset_details"
   ]
  },
  {
   "cell_type": "markdown",
   "id": "89c7858c",
   "metadata": {
    "papermill": {
     "duration": 0.00731,
     "end_time": "2022-08-13T02:24:53.338810",
     "exception": false,
     "start_time": "2022-08-13T02:24:53.331500",
     "status": "completed"
    },
    "tags": []
   },
   "source": [
    "### Sorting the asset_details dataframe and adding Asset tickers"
   ]
  },
  {
   "cell_type": "code",
   "execution_count": 4,
   "id": "f4fcd971",
   "metadata": {
    "execution": {
     "iopub.execute_input": "2022-08-13T02:24:53.355287Z",
     "iopub.status.busy": "2022-08-13T02:24:53.354975Z",
     "iopub.status.idle": "2022-08-13T02:24:53.369842Z",
     "shell.execute_reply": "2022-08-13T02:24:53.368815Z"
    },
    "papermill": {
     "duration": 0.025584,
     "end_time": "2022-08-13T02:24:53.371879",
     "exception": false,
     "start_time": "2022-08-13T02:24:53.346295",
     "status": "completed"
    },
    "tags": []
   },
   "outputs": [
    {
     "data": {
      "text/html": [
       "<div>\n",
       "<style scoped>\n",
       "    .dataframe tbody tr th:only-of-type {\n",
       "        vertical-align: middle;\n",
       "    }\n",
       "\n",
       "    .dataframe tbody tr th {\n",
       "        vertical-align: top;\n",
       "    }\n",
       "\n",
       "    .dataframe thead th {\n",
       "        text-align: right;\n",
       "    }\n",
       "</style>\n",
       "<table border=\"1\" class=\"dataframe\">\n",
       "  <thead>\n",
       "    <tr style=\"text-align: right;\">\n",
       "      <th></th>\n",
       "      <th>Weight</th>\n",
       "      <th>Asset_Name</th>\n",
       "      <th>Asset_Ticker</th>\n",
       "    </tr>\n",
       "    <tr>\n",
       "      <th>Asset_ID</th>\n",
       "      <th></th>\n",
       "      <th></th>\n",
       "      <th></th>\n",
       "    </tr>\n",
       "  </thead>\n",
       "  <tbody>\n",
       "    <tr>\n",
       "      <th>0</th>\n",
       "      <td>4.304065</td>\n",
       "      <td>Binance Coin</td>\n",
       "      <td>BNB</td>\n",
       "    </tr>\n",
       "    <tr>\n",
       "      <th>1</th>\n",
       "      <td>6.779922</td>\n",
       "      <td>Bitcoin</td>\n",
       "      <td>BTC</td>\n",
       "    </tr>\n",
       "    <tr>\n",
       "      <th>2</th>\n",
       "      <td>2.397895</td>\n",
       "      <td>Bitcoin Cash</td>\n",
       "      <td>BCH</td>\n",
       "    </tr>\n",
       "    <tr>\n",
       "      <th>3</th>\n",
       "      <td>4.406719</td>\n",
       "      <td>Cardano</td>\n",
       "      <td>ADA</td>\n",
       "    </tr>\n",
       "    <tr>\n",
       "      <th>4</th>\n",
       "      <td>3.555348</td>\n",
       "      <td>Dogecoin</td>\n",
       "      <td>DOGE</td>\n",
       "    </tr>\n",
       "    <tr>\n",
       "      <th>5</th>\n",
       "      <td>1.386294</td>\n",
       "      <td>EOS.IO</td>\n",
       "      <td>EOS</td>\n",
       "    </tr>\n",
       "    <tr>\n",
       "      <th>6</th>\n",
       "      <td>5.894403</td>\n",
       "      <td>Ethereum</td>\n",
       "      <td>ETH</td>\n",
       "    </tr>\n",
       "    <tr>\n",
       "      <th>7</th>\n",
       "      <td>2.079442</td>\n",
       "      <td>Ethereum Classic</td>\n",
       "      <td>ETC</td>\n",
       "    </tr>\n",
       "    <tr>\n",
       "      <th>8</th>\n",
       "      <td>1.098612</td>\n",
       "      <td>IOTA</td>\n",
       "      <td>MIOTA</td>\n",
       "    </tr>\n",
       "    <tr>\n",
       "      <th>9</th>\n",
       "      <td>2.397895</td>\n",
       "      <td>Litecoin</td>\n",
       "      <td>LTC</td>\n",
       "    </tr>\n",
       "    <tr>\n",
       "      <th>10</th>\n",
       "      <td>1.098612</td>\n",
       "      <td>Maker</td>\n",
       "      <td>MKR</td>\n",
       "    </tr>\n",
       "    <tr>\n",
       "      <th>11</th>\n",
       "      <td>1.609438</td>\n",
       "      <td>Monero</td>\n",
       "      <td>XMR</td>\n",
       "    </tr>\n",
       "    <tr>\n",
       "      <th>12</th>\n",
       "      <td>2.079442</td>\n",
       "      <td>Stellar</td>\n",
       "      <td>XLM</td>\n",
       "    </tr>\n",
       "    <tr>\n",
       "      <th>13</th>\n",
       "      <td>1.791759</td>\n",
       "      <td>TRON</td>\n",
       "      <td>TRX</td>\n",
       "    </tr>\n",
       "  </tbody>\n",
       "</table>\n",
       "</div>"
      ],
      "text/plain": [
       "            Weight        Asset_Name Asset_Ticker\n",
       "Asset_ID                                         \n",
       "0         4.304065      Binance Coin          BNB\n",
       "1         6.779922           Bitcoin          BTC\n",
       "2         2.397895      Bitcoin Cash          BCH\n",
       "3         4.406719           Cardano          ADA\n",
       "4         3.555348          Dogecoin         DOGE\n",
       "5         1.386294            EOS.IO          EOS\n",
       "6         5.894403          Ethereum          ETH\n",
       "7         2.079442  Ethereum Classic          ETC\n",
       "8         1.098612              IOTA        MIOTA\n",
       "9         2.397895          Litecoin          LTC\n",
       "10        1.098612             Maker          MKR\n",
       "11        1.609438            Monero          XMR\n",
       "12        2.079442           Stellar          XLM\n",
       "13        1.791759              TRON          TRX"
      ]
     },
     "execution_count": 4,
     "metadata": {},
     "output_type": "execute_result"
    }
   ],
   "source": [
    "asset_details.sort_values(by='Asset_ID', inplace=True)\n",
    "asset_details.set_index('Asset_ID', inplace=True)\n",
    "asset_details['Asset_Ticker'] = ['BNB', #Binance Coin\n",
    "                                 'BTC', #Bitcoin\n",
    "                                 'BCH', #Bitcoin Cash\n",
    "                                 'ADA', #Cardano\n",
    "                                 'DOGE', #Dogecoin\n",
    "                                 'EOS', #EOS\n",
    "                                 'ETH', #Etherium\n",
    "                                 'ETC', #Etherium Classic\n",
    "                                 'MIOTA', #IOTA\n",
    "                                 'LTC', #Litecoin\n",
    "                                 'MKR', #Maker\n",
    "                                 'XMR', #Monero\n",
    "                                 'XLM', #Stellar\n",
    "                                 'TRX' #TRON\n",
    "                                ]\n",
    "asset_details"
   ]
  },
  {
   "cell_type": "markdown",
   "id": "c91a572d",
   "metadata": {
    "papermill": {
     "duration": 0.0075,
     "end_time": "2022-08-13T02:24:53.387380",
     "exception": false,
     "start_time": "2022-08-13T02:24:53.379880",
     "status": "completed"
    },
    "tags": []
   },
   "source": [
    "## Note: For the purpose of this project we will only focus on four key assets: Bitcoin, Etherium, Litecoin, Dogecoin. For these assets we will impute missing data, and plot the time series."
   ]
  },
  {
   "cell_type": "markdown",
   "id": "90d1e499",
   "metadata": {
    "papermill": {
     "duration": 0.007741,
     "end_time": "2022-08-13T02:24:53.403731",
     "exception": false,
     "start_time": "2022-08-13T02:24:53.395990",
     "status": "completed"
    },
    "tags": []
   },
   "source": [
    "### Creating training dataframe for each asset"
   ]
  },
  {
   "cell_type": "code",
   "execution_count": 5,
   "id": "64a8edcb",
   "metadata": {
    "execution": {
     "iopub.execute_input": "2022-08-13T02:24:53.420702Z",
     "iopub.status.busy": "2022-08-13T02:24:53.420406Z",
     "iopub.status.idle": "2022-08-13T02:24:54.244805Z",
     "shell.execute_reply": "2022-08-13T02:24:54.243646Z"
    },
    "papermill": {
     "duration": 0.835529,
     "end_time": "2022-08-13T02:24:54.247026",
     "exception": false,
     "start_time": "2022-08-13T02:24:53.411497",
     "status": "completed"
    },
    "tags": []
   },
   "outputs": [],
   "source": [
    "train_copy = train.copy().set_index(\"timestamp\")\n",
    "\n",
    "\n",
    "##Bitcoin\n",
    "train_BTC = train_copy[train_copy['Asset_ID']==1]\n",
    "\n",
    "##Dogecoin\n",
    "train_DOGE = train_copy[train_copy['Asset_ID']==4]\n",
    "\n",
    "##Etherium (Ether)\n",
    "train_ETH = train_copy[train_copy['Asset_ID']==6]\n",
    "\n",
    "##Litecoin\n",
    "train_LTC = train_copy[train_copy['Asset_ID']==9]\n",
    "\n",
    "Asset_list = [train_BTC, train_DOGE, train_ETH, train_LTC]"
   ]
  },
  {
   "cell_type": "markdown",
   "id": "dee664cf",
   "metadata": {
    "papermill": {
     "duration": 0.007513,
     "end_time": "2022-08-13T02:24:54.262422",
     "exception": false,
     "start_time": "2022-08-13T02:24:54.254909",
     "status": "completed"
    },
    "tags": []
   },
   "source": [
    "### Creating function to explore timeline, missing timestamps, and to impute missing timestamps for each asset"
   ]
  },
  {
   "cell_type": "code",
   "execution_count": 6,
   "id": "b29f7727",
   "metadata": {
    "execution": {
     "iopub.execute_input": "2022-08-13T02:24:54.279716Z",
     "iopub.status.busy": "2022-08-13T02:24:54.279234Z",
     "iopub.status.idle": "2022-08-13T02:24:54.285488Z",
     "shell.execute_reply": "2022-08-13T02:24:54.284626Z"
    },
    "papermill": {
     "duration": 0.016973,
     "end_time": "2022-08-13T02:24:54.287422",
     "exception": false,
     "start_time": "2022-08-13T02:24:54.270449",
     "status": "completed"
    },
    "tags": []
   },
   "outputs": [],
   "source": [
    "##Explore function with asset dataframe as input\n",
    "def explore(Asset):\n",
    "    \n",
    "    #Asset ID\n",
    "    ID = int(Asset.Asset_ID.values[0])\n",
    "    \n",
    "    #tickername\n",
    "    name = asset_details[asset_details.index==ID]['Asset_Name'].values[0]\n",
    "    \n",
    "    #timeline\n",
    "    first = Asset.index[0].astype('datetime64[s]')\n",
    "    last = Asset.index[-1].astype('datetime64[s]')\n",
    "    \n",
    "    print(f\"The timeline for {name} is from \\n{first} to {last}\\n\")\n",
    "    \n",
    "    #Each consecutive timestamp should be in the increment of 60. A gap more than that reveals the missing asset data\n",
    "    gaps = (Asset.index[1:] - Asset.index[:-1]).value_counts().head(10)\n",
    "    \n",
    "    return print(f\"The gap values for {name} are\\n\", gaps,\"\\n\")"
   ]
  },
  {
   "cell_type": "markdown",
   "id": "c7dcf87f",
   "metadata": {
    "papermill": {
     "duration": 0.007053,
     "end_time": "2022-08-13T02:24:54.302045",
     "exception": false,
     "start_time": "2022-08-13T02:24:54.294992",
     "status": "completed"
    },
    "tags": []
   },
   "source": [
    "### Exploring the missing target values and imputing them"
   ]
  },
  {
   "cell_type": "code",
   "execution_count": 7,
   "id": "3d50d359",
   "metadata": {
    "execution": {
     "iopub.execute_input": "2022-08-13T02:24:54.318720Z",
     "iopub.status.busy": "2022-08-13T02:24:54.318417Z",
     "iopub.status.idle": "2022-08-13T02:24:55.615854Z",
     "shell.execute_reply": "2022-08-13T02:24:55.613933Z"
    },
    "papermill": {
     "duration": 1.308412,
     "end_time": "2022-08-13T02:24:55.618138",
     "exception": false,
     "start_time": "2022-08-13T02:24:54.309726",
     "status": "completed"
    },
    "tags": []
   },
   "outputs": [],
   "source": [
    "##Imputing missing timestamps\n",
    "train_BTC = train_BTC.reindex(range(train_BTC.index[0], train_BTC.index[-1]+60, 60), method='pad')\n",
    "train_ETH = train_ETH.reindex(range(train_ETH.index[0], train_ETH.index[-1]+60, 60), method='pad')\n",
    "train_LTC = train_LTC.reindex(range(train_LTC.index[0], train_LTC.index[-1]+60, 60), method='pad')\n",
    "train_DOGE = train_DOGE.reindex(range(train_DOGE.index[0], train_DOGE.index[-1]+60, 60), method='pad')\n",
    "\n",
    "\n",
    "##Imputing the missing values with 0\n",
    "train_BTC.Target.fillna(0,inplace=True)\n",
    "train_ETH.Target.fillna(0,inplace=True)\n",
    "train_LTC.Target.fillna(0,inplace=True)\n",
    "train_DOGE.Target.fillna(0,inplace=True)"
   ]
  },
  {
   "cell_type": "code",
   "execution_count": 8,
   "id": "27bb4f23",
   "metadata": {
    "execution": {
     "iopub.execute_input": "2022-08-13T02:24:55.636749Z",
     "iopub.status.busy": "2022-08-13T02:24:55.636356Z",
     "iopub.status.idle": "2022-08-13T02:24:55.644292Z",
     "shell.execute_reply": "2022-08-13T02:24:55.642187Z"
    },
    "papermill": {
     "duration": 0.020194,
     "end_time": "2022-08-13T02:24:55.646830",
     "exception": false,
     "start_time": "2022-08-13T02:24:55.626636",
     "status": "completed"
    },
    "tags": []
   },
   "outputs": [
    {
     "data": {
      "text/plain": [
       "((1956960, 9), (1956960, 9), (1956960, 9), (1285047, 9))"
      ]
     },
     "execution_count": 8,
     "metadata": {},
     "output_type": "execute_result"
    }
   ],
   "source": [
    "train_BTC.shape, train_ETH.shape, train_LTC.shape, train_DOGE.shape"
   ]
  },
  {
   "cell_type": "markdown",
   "id": "ee56d74c",
   "metadata": {
    "papermill": {
     "duration": 0.008405,
     "end_time": "2022-08-13T02:24:55.663767",
     "exception": false,
     "start_time": "2022-08-13T02:24:55.655362",
     "status": "completed"
    },
    "tags": []
   },
   "source": [
    "## Visualizing the complete time series"
   ]
  },
  {
   "cell_type": "code",
   "execution_count": 9,
   "id": "94e4dfc1",
   "metadata": {
    "execution": {
     "iopub.execute_input": "2022-08-13T02:24:55.682788Z",
     "iopub.status.busy": "2022-08-13T02:24:55.682394Z",
     "iopub.status.idle": "2022-08-13T02:24:55.690236Z",
     "shell.execute_reply": "2022-08-13T02:24:55.688387Z"
    },
    "papermill": {
     "duration": 0.020404,
     "end_time": "2022-08-13T02:24:55.693237",
     "exception": false,
     "start_time": "2022-08-13T02:24:55.672833",
     "status": "completed"
    },
    "tags": []
   },
   "outputs": [],
   "source": [
    "import matplotlib.pyplot as plt\n",
    "\n",
    "\n",
    "#Visualize function to plot complete daily time series of closing price of each asset\n",
    "def visualize(Asset, color):\n",
    "    \n",
    "    f = plt.figure(figsize=(15,4))\n",
    "    \n",
    "    #Asset ID\n",
    "    ID = int(Asset.Asset_ID.values[0])\n",
    "    \n",
    "    #label\n",
    "    label = asset_details[asset_details.index==ID]['Asset_Name'].values[0]\n",
    "    \n",
    "    \n",
    "    #timeline\n",
    "    timeline = pd.to_datetime(Asset.index, unit = 's').date\n",
    "    \n",
    "    #plot with legends and axis labels\n",
    "    plt.plot(timeline, Asset['Close'], label=label, color=color)\n",
    "    plt.legend()\n",
    "    plt.xlabel('Time')\n",
    "    plt.ylabel(f'{label} price in USD')\n",
    "    \n",
    "    plt.show()\n",
    "    \n",
    "    return None"
   ]
  },
  {
   "cell_type": "code",
   "execution_count": 10,
   "id": "2325cb07",
   "metadata": {
    "execution": {
     "iopub.execute_input": "2022-08-13T02:24:55.712608Z",
     "iopub.status.busy": "2022-08-13T02:24:55.711761Z",
     "iopub.status.idle": "2022-08-13T02:25:09.570514Z",
     "shell.execute_reply": "2022-08-13T02:25:09.569721Z"
    },
    "papermill": {
     "duration": 13.870342,
     "end_time": "2022-08-13T02:25:09.572192",
     "exception": false,
     "start_time": "2022-08-13T02:24:55.701850",
     "status": "completed"
    },
    "tags": []
   },
   "outputs": [
    {
     "data": {
      "image/png": "[encoded data removed]",
      "text/plain": [
       "<Figure size 1080x288 with 1 Axes>"
      ]
     },
     "metadata": {
      "needs_background": "light"
     },
     "output_type": "display_data"
    },
    {
     "data": {
      "image/png": "[encoded data removed]",
      "text/plain": [
       "<Figure size 1080x288 with 1 Axes>"
      ]
     },
     "metadata": {
      "needs_background": "light"
     },
     "output_type": "display_data"
    },
    {
     "data": {
      "image/png": "[encoded data removed]",
      "text/plain": [
       "<Figure size 1080x288 with 1 Axes>"
      ]
     },
     "metadata": {
      "needs_background": "light"
     },
     "output_type": "display_data"
    },
    {
     "data": {
      "image/png": "[encoded data removed]",
      "text/plain": [
       "<Figure size 1080x288 with 1 Axes>"
      ]
     },
     "metadata": {
      "needs_background": "light"
     },
     "output_type": "display_data"
    },
    {
     "data": {
      "text/plain": [
       "(None, None, None, None)"
      ]
     },
     "execution_count": 10,
     "metadata": {},
     "output_type": "execute_result"
    }
   ],
   "source": [
    "visualize(train_BTC, 'red'), visualize(train_ETH, 'blue'), visualize(train_LTC, 'orange'), visualize(train_DOGE, 'green')"
   ]
  },
  {
   "cell_type": "markdown",
   "id": "3f4dbd58",
   "metadata": {
    "papermill": {
     "duration": 0.008648,
     "end_time": "2022-08-13T02:25:09.590147",
     "exception": false,
     "start_time": "2022-08-13T02:25:09.581499",
     "status": "completed"
    },
    "tags": []
   },
   "source": [
    "#### Note: Due to storage constraint and also vast difference in the history of assets we will choose the recent and more dynamic data. For exploratory purposes we will choose the 1st May 2021 to 31st May 2021 time window."
   ]
  },
  {
   "cell_type": "code",
   "execution_count": 11,
   "id": "549c4b0f",
   "metadata": {
    "execution": {
     "iopub.execute_input": "2022-08-13T02:25:09.610021Z",
     "iopub.status.busy": "2022-08-13T02:25:09.609512Z",
     "iopub.status.idle": "2022-08-13T02:25:10.744490Z",
     "shell.execute_reply": "2022-08-13T02:25:10.743157Z"
    },
    "papermill": {
     "duration": 1.148144,
     "end_time": "2022-08-13T02:25:10.747429",
     "exception": false,
     "start_time": "2022-08-13T02:25:09.599285",
     "status": "completed"
    },
    "tags": []
   },
   "outputs": [],
   "source": [
    "import time\n",
    "import matplotlib as mpl\n",
    "from statsmodels.graphics.tsaplots import plot_acf\n",
    "from statsmodels.tsa.stattools import adfuller\n",
    "\n",
    "\n",
    "totimestamp = lambda s: np.int32(time.mktime(datetime.strptime(s, '%d/%m/%Y').timetuple()))\n",
    "start = '01/05/2021'\n",
    "end = '31/05/2021'\n",
    "\n",
    "recent_BTC = train_BTC.loc[totimestamp(start): totimestamp(end)]\n",
    "recent_ETH = train_ETH.loc[totimestamp(start): totimestamp(end)]\n",
    "recent_LTC = train_LTC.loc[totimestamp(start): totimestamp(end)]\n",
    "recent_DOGE = train_DOGE.loc[totimestamp(start): totimestamp(end)]"
   ]
  },
  {
   "cell_type": "code",
   "execution_count": 12,
   "id": "477cc4b5",
   "metadata": {
    "execution": {
     "iopub.execute_input": "2022-08-13T02:25:10.767428Z",
     "iopub.status.busy": "2022-08-13T02:25:10.767099Z",
     "iopub.status.idle": "2022-08-13T02:25:10.773678Z",
     "shell.execute_reply": "2022-08-13T02:25:10.772411Z"
    },
    "papermill": {
     "duration": 0.019172,
     "end_time": "2022-08-13T02:25:10.775945",
     "exception": false,
     "start_time": "2022-08-13T02:25:10.756773",
     "status": "completed"
    },
    "tags": []
   },
   "outputs": [
    {
     "data": {
      "text/plain": [
       "((43201, 9), (43201, 9), (43201, 9), (43201, 9))"
      ]
     },
     "execution_count": 12,
     "metadata": {},
     "output_type": "execute_result"
    }
   ],
   "source": [
    "recent_BTC.shape, recent_ETH.shape, recent_LTC.shape, recent_DOGE.shape"
   ]
  },
  {
   "cell_type": "markdown",
   "id": "31d00b7a",
   "metadata": {
    "papermill": {
     "duration": 0.008755,
     "end_time": "2022-08-13T02:25:10.794107",
     "exception": false,
     "start_time": "2022-08-13T02:25:10.785352",
     "status": "completed"
    },
    "tags": []
   },
   "source": [
    "## Performing Statistical Tests"
   ]
  },
  {
   "cell_type": "markdown",
   "id": "16e0190c",
   "metadata": {
    "papermill": {
     "duration": 0.009038,
     "end_time": "2022-08-13T02:25:10.812477",
     "exception": false,
     "start_time": "2022-08-13T02:25:10.803439",
     "status": "completed"
    },
    "tags": []
   },
   "source": [
    "### Autocorrelation"
   ]
  },
  {
   "cell_type": "code",
   "execution_count": 13,
   "id": "dab0e2c8",
   "metadata": {
    "execution": {
     "iopub.execute_input": "2022-08-13T02:25:10.834940Z",
     "iopub.status.busy": "2022-08-13T02:25:10.833347Z",
     "iopub.status.idle": "2022-08-13T02:25:11.441251Z",
     "shell.execute_reply": "2022-08-13T02:25:11.440394Z"
    },
    "papermill": {
     "duration": 0.620436,
     "end_time": "2022-08-13T02:25:11.443364",
     "exception": false,
     "start_time": "2022-08-13T02:25:10.822928",
     "status": "completed"
    },
    "tags": []
   },
   "outputs": [
    {
     "data": {
      "image/png": "[encoded data removed]",
      "text/plain": [
       "<Figure size 1080x288 with 1 Axes>"
      ]
     },
     "metadata": {
      "needs_background": "light"
     },
     "output_type": "display_data"
    },
    {
     "data": {
      "image/png": "[encoded data removed]",
      "text/plain": [
       "<Figure size 1080x288 with 1 Axes>"
      ]
     },
     "metadata": {
      "needs_background": "light"
     },
     "output_type": "display_data"
    },
    {
     "data": {
      "image/png": "[encoded data removed]",
      "text/plain": [
       "<Figure size 1080x288 with 1 Axes>"
      ]
     },
     "metadata": {
      "needs_background": "light"
     },
     "output_type": "display_data"
    },
    {
     "data": {
      "image/png": "[encoded data removed]",
      "text/plain": [
       "<Figure size 1080x288 with 1 Axes>"
      ]
     },
     "metadata": {
      "needs_background": "light"
     },
     "output_type": "display_data"
    }
   ],
   "source": [
    "##Autocorrelation on hourly frequency of the closing prices data\n",
    "with mpl.rc_context():\n",
    "    mpl.rc(\"figure\", figsize=(15,4))\n",
    "    plot_acf(recent_BTC.iloc[::60,5])\n",
    "    plot_acf(recent_ETH.iloc[::60,5])\n",
    "    plot_acf(recent_LTC.iloc[::60,5])\n",
    "    plot_acf(recent_DOGE.iloc[::60,5])\n",
    "    plt.show()"
   ]
  },
  {
   "cell_type": "markdown",
   "id": "79463f00",
   "metadata": {
    "papermill": {
     "duration": 0.010117,
     "end_time": "2022-08-13T02:25:11.464634",
     "exception": false,
     "start_time": "2022-08-13T02:25:11.454517",
     "status": "completed"
    },
    "tags": []
   },
   "source": [
    "#### The autocorrelation in hourly closing prices is almost close to one upto 30 lags. Increasing the period length from 1 hour to 1 day might reveal different results "
   ]
  },
  {
   "cell_type": "code",
   "execution_count": 14,
   "id": "481e31ce",
   "metadata": {
    "execution": {
     "iopub.execute_input": "2022-08-13T02:25:11.487228Z",
     "iopub.status.busy": "2022-08-13T02:25:11.486724Z",
     "iopub.status.idle": "2022-08-13T02:25:12.079249Z",
     "shell.execute_reply": "2022-08-13T02:25:12.078055Z"
    },
    "papermill": {
     "duration": 0.606529,
     "end_time": "2022-08-13T02:25:12.081611",
     "exception": false,
     "start_time": "2022-08-13T02:25:11.475082",
     "status": "completed"
    },
    "tags": []
   },
   "outputs": [
    {
     "data": {
      "image/png": "[encoded data removed]",
      "text/plain": [
       "<Figure size 1080x288 with 1 Axes>"
      ]
     },
     "metadata": {
      "needs_background": "light"
     },
     "output_type": "display_data"
    },
    {
     "data": {
      "image/png": "[encoded data removed]",
      "text/plain": [
       "<Figure size 1080x288 with 1 Axes>"
      ]
     },
     "metadata": {
      "needs_background": "light"
     },
     "output_type": "display_data"
    },
    {
     "data": {
      "image/png": "[encoded data removed]",
      "text/plain": [
       "<Figure size 1080x288 with 1 Axes>"
      ]
     },
     "metadata": {
      "needs_background": "light"
     },
     "output_type": "display_data"
    },
    {
     "data": {
      "image/png": "[encoded data removed]",
      "text/plain": [
       "<Figure size 1080x288 with 1 Axes>"
      ]
     },
     "metadata": {
      "needs_background": "light"
     },
     "output_type": "display_data"
    }
   ],
   "source": [
    "##Autocorrelation on daily frequency of the closing prices data for 28 lags\n",
    "\n",
    "with mpl.rc_context():\n",
    "    mpl.rc(\"figure\", figsize=(15,4))\n",
    "    plot_acf(recent_BTC.iloc[::1440,5], lags=28)\n",
    "    plot_acf(recent_ETH.iloc[::1440,5], lags=28)\n",
    "    plot_acf(recent_LTC.iloc[::1440,5], lags=28)\n",
    "    plot_acf(recent_DOGE.iloc[::1440,5], lags=28)\n",
    "    plt.show()"
   ]
  },
  {
   "cell_type": "markdown",
   "id": "7bebe974",
   "metadata": {
    "papermill": {
     "duration": 0.011575,
     "end_time": "2022-08-13T02:25:12.105039",
     "exception": false,
     "start_time": "2022-08-13T02:25:12.093464",
     "status": "completed"
    },
    "tags": []
   },
   "source": [
    "#### For Bitcoin, the autocorrelation monotonously shrinks to zero at 10th lag. And it continues to decreas and reaches minimum around 18th lag and again increases and reaches near zero value around 28th lag.\n",
    "\n",
    "#### For Etherium, the autocorrelation decreases and changes its sign at 8th lag. It decreases further and reaches minimum at 14th lag and increases and stays to near zero values from 23rd lag afterwards.\n",
    "\n",
    "#### For Etherium, the autocorrelation decreases and changes its sign at 9th lag. It decreases further and reaches minimum at 16th lag and increases to zero around 27th lag.\n",
    "\n",
    "#### For Dogecoin, the autocorrelation curve is not smooth and sine-wave like. It decreases swiftly til 5th lag and then fluctuates till 10th lag until it changes its sign from positive to negative. It reaches minimum at 14th lag and fluctuates again until it reaches zero at 26th lag. "
   ]
  },
  {
   "cell_type": "markdown",
   "id": "14bb502f",
   "metadata": {
    "papermill": {
     "duration": 0.011384,
     "end_time": "2022-08-13T02:25:12.127981",
     "exception": false,
     "start_time": "2022-08-13T02:25:12.116597",
     "status": "completed"
    },
    "tags": []
   },
   "source": [
    "### Augmented Dicky Fullers Test\n",
    "\n",
    "#### To check stationarity of the time series we will perform the augmented Dicky Fullers Test. This test is against the null hypothesis that time series is non stationary. The p-value of the test represents that probability that the null hypothesis cannot be rejected."
   ]
  },
  {
   "cell_type": "code",
   "execution_count": 15,
   "id": "6c1c2382",
   "metadata": {
    "execution": {
     "iopub.execute_input": "2022-08-13T02:25:12.153471Z",
     "iopub.status.busy": "2022-08-13T02:25:12.152532Z",
     "iopub.status.idle": "2022-08-13T02:25:16.520195Z",
     "shell.execute_reply": "2022-08-13T02:25:16.519352Z"
    },
    "papermill": {
     "duration": 4.384549,
     "end_time": "2022-08-13T02:25:16.524243",
     "exception": false,
     "start_time": "2022-08-13T02:25:12.139694",
     "status": "completed"
    },
    "tags": []
   },
   "outputs": [
    {
     "name": "stdout",
     "output_type": "stream",
     "text": [
      "ADF Statistic: -0.7356618963777571\n",
      "p-value: 0.8372948340180572\n",
      "n-lags: 50\n",
      "Critial Values:\n",
      "1%: -3.430501557104466\n",
      "5%: -2.861606984893264\n",
      "10%: -2.5668056538840904\n"
     ]
    }
   ],
   "source": [
    "result = adfuller(recent_BTC.Close)\n",
    "print(f'ADF Statistic: {result[0]}')\n",
    "print(f'p-value: {result[1]}')\n",
    "print(f'n-lags: {result[2]}')\n",
    "print('Critial Values:')\n",
    "for key, value in result[4].items():\n",
    "    print(f'{key}: {value}')"
   ]
  },
  {
   "cell_type": "code",
   "execution_count": 16,
   "id": "4d6c0d85",
   "metadata": {
    "execution": {
     "iopub.execute_input": "2022-08-13T02:25:16.557623Z",
     "iopub.status.busy": "2022-08-13T02:25:16.557270Z",
     "iopub.status.idle": "2022-08-13T02:25:20.580518Z",
     "shell.execute_reply": "2022-08-13T02:25:20.579579Z"
    },
    "papermill": {
     "duration": 4.042082,
     "end_time": "2022-08-13T02:25:20.582631",
     "exception": false,
     "start_time": "2022-08-13T02:25:16.540549",
     "status": "completed"
    },
    "tags": []
   },
   "outputs": [
    {
     "name": "stdout",
     "output_type": "stream",
     "text": [
      "ADF Statistic: -1.0138821044739168\n",
      "p-value: 0.7481675090015619\n",
      "n-lags: 50\n",
      "Critial Values:\n",
      "1%: -3.430501557104466\n",
      "5%: -2.861606984893264\n",
      "10%: -2.5668056538840904\n"
     ]
    }
   ],
   "source": [
    "result = adfuller(recent_ETH.Close)\n",
    "print(f'ADF Statistic: {result[0]}')\n",
    "print(f'p-value: {result[1]}')\n",
    "print(f'n-lags: {result[2]}')\n",
    "print('Critial Values:')\n",
    "for key, value in result[4].items():\n",
    "    print(f'{key}: {value}')"
   ]
  },
  {
   "cell_type": "code",
   "execution_count": 17,
   "id": "d2771540",
   "metadata": {
    "execution": {
     "iopub.execute_input": "2022-08-13T02:25:20.614822Z",
     "iopub.status.busy": "2022-08-13T02:25:20.614499Z",
     "iopub.status.idle": "2022-08-13T02:25:24.536808Z",
     "shell.execute_reply": "2022-08-13T02:25:24.535949Z"
    },
    "papermill": {
     "duration": 3.941131,
     "end_time": "2022-08-13T02:25:24.539221",
     "exception": false,
     "start_time": "2022-08-13T02:25:20.598090",
     "status": "completed"
    },
    "tags": []
   },
   "outputs": [
    {
     "name": "stdout",
     "output_type": "stream",
     "text": [
      "ADF Statistic: -0.5414072433899466\n",
      "p-value: 0.8836797555499027\n",
      "n-lags: 51\n",
      "Critial Values:\n",
      "1%: -3.430501560617088\n",
      "5%: -2.8616069864457256\n",
      "10%: -2.566805654710422\n"
     ]
    }
   ],
   "source": [
    "result = adfuller(recent_LTC.Close)\n",
    "print(f'ADF Statistic: {result[0]}')\n",
    "print(f'p-value: {result[1]}')\n",
    "print(f'n-lags: {result[2]}')\n",
    "print('Critial Values:')\n",
    "for key, value in result[4].items():\n",
    "    print(f'{key}: {value}')"
   ]
  },
  {
   "cell_type": "code",
   "execution_count": 18,
   "id": "7f13d0f2",
   "metadata": {
    "execution": {
     "iopub.execute_input": "2022-08-13T02:25:24.572512Z",
     "iopub.status.busy": "2022-08-13T02:25:24.572156Z",
     "iopub.status.idle": "2022-08-13T02:25:28.636506Z",
     "shell.execute_reply": "2022-08-13T02:25:28.634853Z"
    },
    "papermill": {
     "duration": 4.084436,
     "end_time": "2022-08-13T02:25:28.639708",
     "exception": false,
     "start_time": "2022-08-13T02:25:24.555272",
     "status": "completed"
    },
    "tags": []
   },
   "outputs": [
    {
     "name": "stdout",
     "output_type": "stream",
     "text": [
      "ADF Statistic: -1.529041417969079\n",
      "p-value: 0.519099192305999\n",
      "n-lags: 55\n",
      "Critial Values:\n",
      "1%: -3.4305015746692042\n",
      "5%: -2.861606992656292\n",
      "10%: -2.5668056580161327\n"
     ]
    }
   ],
   "source": [
    "result = adfuller(recent_DOGE.Close)\n",
    "print(f'ADF Statistic: {result[0]}')\n",
    "print(f'p-value: {result[1]}')\n",
    "print(f'n-lags: {result[2]}')\n",
    "print('Critial Values:')\n",
    "for key, value in result[4].items():\n",
    "    print(f'{key}: {value}')"
   ]
  },
  {
   "cell_type": "markdown",
   "id": "ed19ca2c",
   "metadata": {
    "papermill": {
     "duration": 0.015399,
     "end_time": "2022-08-13T02:25:28.671161",
     "exception": false,
     "start_time": "2022-08-13T02:25:28.655762",
     "status": "completed"
    },
    "tags": []
   },
   "source": [
    "#### The p-values for all the assets is significantly greater than 0.05 which indicates that none of these timeseries are stationary in the given time window. Hence we cannot use traditional AR, ARMA, ARIMA models on this time series. Rather we would multioutput Regression for this timeseries"
   ]
  },
  {
   "cell_type": "markdown",
   "id": "d39a1705",
   "metadata": {
    "papermill": {
     "duration": 0.015267,
     "end_time": "2022-08-13T02:25:28.702351",
     "exception": false,
     "start_time": "2022-08-13T02:25:28.687084",
     "status": "completed"
    },
    "tags": []
   },
   "source": [
    "## Modeling"
   ]
  },
  {
   "cell_type": "markdown",
   "id": "da1f4546",
   "metadata": {
    "papermill": {
     "duration": 0.015676,
     "end_time": "2022-08-13T02:25:28.733829",
     "exception": false,
     "start_time": "2022-08-13T02:25:28.718153",
     "status": "completed"
    },
    "tags": []
   },
   "source": [
    "### Feature selection\n",
    "\n",
    "#### We will use following features:\n",
    "#### 1. Upper Shadow\n",
    "#### 2. Lower Shadow\n",
    "#### 3. 5 mins log return\n",
    "#### 4. absolute 5 mins log return"
   ]
  },
  {
   "cell_type": "code",
   "execution_count": 19,
   "id": "4b141e67",
   "metadata": {
    "execution": {
     "iopub.execute_input": "2022-08-13T02:25:28.761989Z",
     "iopub.status.busy": "2022-08-13T02:25:28.761654Z",
     "iopub.status.idle": "2022-08-13T02:25:29.364704Z",
     "shell.execute_reply": "2022-08-13T02:25:29.363628Z"
    },
    "papermill": {
     "duration": 0.618069,
     "end_time": "2022-08-13T02:25:29.366996",
     "exception": false,
     "start_time": "2022-08-13T02:25:28.748927",
     "status": "completed"
    },
    "tags": []
   },
   "outputs": [],
   "source": [
    "## Function to calculate log returns\n",
    "def log_return(series, periods=1):\n",
    "    return np.log(series).diff(periods=periods)\n",
    "\n",
    "## Functions to calculate upper and lower shadow\n",
    "upper_shadow = lambda asset: asset.High - np.maximum(asset.Close, asset.Open)\n",
    "lower_shadow = lambda asset: np.minimum(asset.Close, asset.Open) - asset.Low\n",
    "\n",
    "X_BTC = pd.concat([log_return(train_BTC.VWAP, periods=5), log_return(train_BTC.VWAP, periods=5).abs(), \n",
    "                   upper_shadow(train_BTC), lower_shadow(train_BTC)], axis=1)\n",
    "y_BTC = train_BTC.Target\n",
    "\n",
    "X_ETH = pd.concat([log_return(train_ETH.VWAP, periods=5), log_return(train_ETH.VWAP, periods=5).abs(), \n",
    "                   upper_shadow(train_ETH), lower_shadow(train_ETH)], axis=1)\n",
    "y_ETH = train_ETH.Target\n",
    "\n",
    "X_LTC = pd.concat([log_return(train_LTC.VWAP, periods=5), log_return(train_LTC.VWAP, periods=5).abs(), \n",
    "                   upper_shadow(train_LTC), lower_shadow(train_LTC)], axis=1)\n",
    "y_LTC = train_LTC.Target\n",
    "\n",
    "X_DOGE = pd.concat([log_return(train_DOGE.VWAP, periods=5), log_return(train_DOGE.VWAP, periods=5).abs(), \n",
    "                   upper_shadow(train_DOGE), lower_shadow(train_DOGE)], axis=1)\n",
    "y_DOGE = train_DOGE.Target"
   ]
  },
  {
   "cell_type": "code",
   "execution_count": 20,
   "id": "923ce013",
   "metadata": {
    "execution": {
     "iopub.execute_input": "2022-08-13T02:25:29.391250Z",
     "iopub.status.busy": "2022-08-13T02:25:29.390891Z",
     "iopub.status.idle": "2022-08-13T02:25:29.414900Z",
     "shell.execute_reply": "2022-08-13T02:25:29.413803Z"
    },
    "papermill": {
     "duration": 0.038881,
     "end_time": "2022-08-13T02:25:29.417191",
     "exception": false,
     "start_time": "2022-08-13T02:25:29.378310",
     "status": "completed"
    },
    "tags": []
   },
   "outputs": [],
   "source": [
    "## selecting training and testing windows\n",
    "\n",
    "train_window = [totimestamp(\"01/05/2021\"), totimestamp(\"31/05/2021\")]\n",
    "test_window = [totimestamp(\"01/06/2021\"), totimestamp(\"30/06/2021\")]\n",
    "\n",
    "\n",
    "X_BTC_train = X_BTC.loc[train_window[0]:train_window[1]].fillna(0).to_numpy()  # filling NaN's with zeros\n",
    "y_BTC_train = y_BTC.loc[train_window[0]:train_window[1]].fillna(0).to_numpy()\n",
    "\n",
    "X_BTC_test = X_BTC.loc[test_window[0]:test_window[1]].fillna(0).to_numpy()\n",
    "y_BTC_test = y_BTC.loc[test_window[0]:test_window[1]].fillna(0).to_numpy()\n",
    "\n",
    "X_ETH_train = X_ETH.loc[train_window[0]:train_window[1]].fillna(0).to_numpy()\n",
    "y_ETH_train = y_ETH.loc[train_window[0]:train_window[1]].fillna(0).to_numpy()\n",
    "\n",
    "X_ETH_test = X_ETH.loc[test_window[0]:test_window[1]].fillna(0).to_numpy()\n",
    "y_ETH_test = y_ETH.loc[test_window[0]:test_window[1]].fillna(0).to_numpy()\n",
    "\n",
    "X_LTC_train = X_LTC.loc[train_window[0]:train_window[1]].fillna(0).to_numpy()\n",
    "y_LTC_train = y_LTC.loc[train_window[0]:train_window[1]].fillna(0).to_numpy() \n",
    "\n",
    "X_LTC_test = X_LTC.loc[test_window[0]:test_window[1]].fillna(0).to_numpy()\n",
    "y_LTC_test = y_LTC.loc[test_window[0]:test_window[1]].fillna(0).to_numpy()\n",
    "\n",
    "X_DOGE_train = X_DOGE.loc[train_window[0]:train_window[1]].fillna(0).to_numpy()\n",
    "y_DOGE_train = y_DOGE.loc[train_window[0]:train_window[1]].fillna(0).to_numpy() \n",
    "\n",
    "X_DOGE_test = X_DOGE.loc[test_window[0]:test_window[1]].fillna(0).to_numpy() \n",
    "y_DOGE_test = y_DOGE.loc[test_window[0]:test_window[1]].fillna(0).to_numpy()"
   ]
  },
  {
   "cell_type": "code",
   "execution_count": 21,
   "id": "028195cb",
   "metadata": {
    "execution": {
     "iopub.execute_input": "2022-08-13T02:25:29.441600Z",
     "iopub.status.busy": "2022-08-13T02:25:29.441262Z",
     "iopub.status.idle": "2022-08-13T02:25:29.597582Z",
     "shell.execute_reply": "2022-08-13T02:25:29.596884Z"
    },
    "papermill": {
     "duration": 0.171053,
     "end_time": "2022-08-13T02:25:29.599625",
     "exception": false,
     "start_time": "2022-08-13T02:25:29.428572",
     "status": "completed"
    },
    "tags": []
   },
   "outputs": [],
   "source": [
    "from sklearn.preprocessing import StandardScaler\n",
    "scaler = StandardScaler()\n",
    "\n",
    "X_BTC_train_scaled = scaler.fit_transform(X_BTC_train)\n",
    "X_BTC_test_scaled = scaler.transform(X_BTC_test)\n",
    "\n",
    "X_ETH_train_scaled = scaler.fit_transform(X_ETH_train)\n",
    "X_ETH_test_scaled = scaler.transform(X_ETH_test)\n",
    "\n",
    "X_LTC_train_scaled = scaler.fit_transform(X_LTC_train)\n",
    "X_LTC_test_scaled = scaler.transform(X_LTC_test)\n",
    "\n",
    "X_DOGE_train_scaled = scaler.fit_transform(X_DOGE_train)\n",
    "X_DOGE_test_scaled = scaler.transform(X_DOGE_test)"
   ]
  },
  {
   "cell_type": "code",
   "execution_count": 22,
   "id": "8e063e79",
   "metadata": {
    "execution": {
     "iopub.execute_input": "2022-08-13T02:25:29.624849Z",
     "iopub.status.busy": "2022-08-13T02:25:29.624086Z",
     "iopub.status.idle": "2022-08-13T02:25:29.826903Z",
     "shell.execute_reply": "2022-08-13T02:25:29.826150Z"
    },
    "papermill": {
     "duration": 0.217827,
     "end_time": "2022-08-13T02:25:29.829240",
     "exception": false,
     "start_time": "2022-08-13T02:25:29.611413",
     "status": "completed"
    },
    "tags": []
   },
   "outputs": [],
   "source": [
    "from sklearn.multioutput import MultiOutputRegressor\n",
    "from sklearn.linear_model import LinearRegression\n",
    "\n",
    "##Concatenating inputs along column or axis level\n",
    "X_all_train = np.concatenate((X_BTC_train_scaled, X_ETH_train_scaled, X_LTC_train_scaled, X_DOGE_train_scaled), axis=1)\n",
    "X_all_test = np.concatenate((X_BTC_test_scaled, X_ETH_test_scaled, X_LTC_test_scaled, X_DOGE_test_scaled), axis=1)\n",
    "\n",
    "##Stacking the outputs columnwise (1 column for each asset)\n",
    "y_all_train = np.column_stack((y_BTC_train, y_ETH_train, y_LTC_train, y_DOGE_train))\n",
    "y_all_test = np.column_stack((y_BTC_test, y_ETH_test, y_LTC_test, y_DOGE_test))\n",
    "\n",
    "# define the direct multioutput model and fit it\n",
    "mlr = MultiOutputRegressor(LinearRegression())\n",
    "mlr.fit(X_all_train,y_all_train)\n",
    "y_pred_lr_all = mlr.predict(X_all_test)"
   ]
  },
  {
   "cell_type": "code",
   "execution_count": 23,
   "id": "1a98d213",
   "metadata": {
    "execution": {
     "iopub.execute_input": "2022-08-13T02:25:29.888146Z",
     "iopub.status.busy": "2022-08-13T02:25:29.887384Z",
     "iopub.status.idle": "2022-08-13T02:25:29.896482Z",
     "shell.execute_reply": "2022-08-13T02:25:29.895674Z"
    },
    "papermill": {
     "duration": 0.05045,
     "end_time": "2022-08-13T02:25:29.898596",
     "exception": false,
     "start_time": "2022-08-13T02:25:29.848146",
     "status": "completed"
    },
    "tags": []
   },
   "outputs": [
    {
     "name": "stdout",
     "output_type": "stream",
     "text": [
      "Correlation coefficient for multiple output regression:\n",
      "Bitcoin : 0.01 \n",
      "Etherium : 0.04 \n",
      "Litecoin : 0.03 \n",
      "Dogecoin : 0.01\n"
     ]
    }
   ],
   "source": [
    "print(\"Correlation coefficient for multiple output regression:\\nBitcoin :\", f\"{np.corrcoef(y_pred_lr_all[:,0], y_all_test[:,0])[0,1]:.2f}\",\n",
    "     \"\\nEtherium :\", f\"{np.corrcoef(y_pred_lr_all[:,1], y_all_test[:,1])[0,1]:.2f}\",\n",
    "     \"\\nLitecoin :\", f\"{np.corrcoef(y_pred_lr_all[:,2], y_all_test[:,2])[0,1]:.2f}\",\n",
    "     \"\\nDogecoin :\", f\"{np.corrcoef(y_pred_lr_all[:,3], y_all_test[:,3])[0,1]:.2f}\")"
   ]
  },
  {
   "cell_type": "markdown",
   "id": "f1ecc0d7",
   "metadata": {
    "papermill": {
     "duration": 0.017451,
     "end_time": "2022-08-13T02:25:29.948669",
     "exception": false,
     "start_time": "2022-08-13T02:25:29.931218",
     "status": "completed"
    },
    "tags": []
   },
   "source": [
    "#### Due to the dynamic and volatile nature of crypto prices the correlation between test Target values and predicted Target values is relatively low but it is nonetheless positive."
   ]
  }
 ],
 "metadata": {
  "kernelspec": {
   "display_name": "Python 3",
   "language": "python",
   "name": "python3"
  },
  "language_info": {
   "codemirror_mode": {
    "name": "ipython",
    "version": 3
   },
   "file_extension": ".py",
   "mimetype": "text/x-python",
   "name": "python",
   "nbconvert_exporter": "python",
   "pygments_lexer": "ipython3",
   "version": "3.7.12"
  },
  "papermill": {
   "default_parameters": {},
   "duration": 99.842966,
   "end_time": "2022-08-13T02:25:30.682426",
   "environment_variables": {},
   "exception": null,
   "input_path": "__notebook__.ipynb",
   "output_path": "__notebook__.ipynb",
   "parameters": {},
   "start_time": "2022-08-13T02:23:50.839460",
   "version": "2.3.4"
  }
 },
 "nbformat": 4,
 "nbformat_minor": 5
}
